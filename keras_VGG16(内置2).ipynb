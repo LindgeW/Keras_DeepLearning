{
 "cells": [
  {
   "cell_type": "markdown",
   "metadata": {},
   "source": [
    "### 基于 VGG16 深度学习预训练权重的图像分类预测实验\n",
    "我们无需自己训练神经网络权重参数，使用VGG-16已经训练好的模型与权重参数来预测图片的类别。"
   ]
  },
  {
   "cell_type": "markdown",
   "metadata": {},
   "source": [
    "### 导包"
   ]
  },
  {
   "cell_type": "code",
   "execution_count": 3,
   "metadata": {
    "collapsed": false
   },
   "outputs": [],
   "source": [
    "import time\n",
    "from keras.applications.vgg16 import VGG16\n",
    "# from keras.applications.imagenet_utils import preprocess_input, decode_predictions\n",
    "from keras.applications.vgg16 import preprocess_input,decode_predictions\n",
    "from keras.preprocessing import image\n",
    "import numpy as np"
   ]
  },
  {
   "cell_type": "markdown",
   "metadata": {},
   "source": [
    "### 预置并预训练好的VGG16深度学习模型\n",
    "\n",
    "VGG16(include_top=True, weights='imagenet', input_tensor=None, input_shape=None, pooling=None, classes=1000)"
   ]
  },
  {
   "cell_type": "code",
   "execution_count": 5,
   "metadata": {
    "collapsed": false
   },
   "outputs": [
    {
     "name": "stdout",
     "output_type": "stream",
     "text": [
      "0 input_1 (None, 224, 224, 3)\n",
      "1 block1_conv1 (None, 224, 224, 64)\n",
      "2 block1_conv2 (None, 224, 224, 64)\n",
      "3 block1_pool (None, 112, 112, 64)\n",
      "4 block2_conv1 (None, 112, 112, 128)\n",
      "5 block2_conv2 (None, 112, 112, 128)\n",
      "6 block2_pool (None, 56, 56, 128)\n",
      "7 block3_conv1 (None, 56, 56, 256)\n",
      "8 block3_conv2 (None, 56, 56, 256)\n",
      "9 block3_conv3 (None, 56, 56, 256)\n",
      "10 block3_pool (None, 28, 28, 256)\n",
      "11 block4_conv1 (None, 28, 28, 512)\n",
      "12 block4_conv2 (None, 28, 28, 512)\n",
      "13 block4_conv3 (None, 28, 28, 512)\n",
      "14 block4_pool (None, 14, 14, 512)\n",
      "15 block5_conv1 (None, 14, 14, 512)\n",
      "16 block5_conv2 (None, 14, 14, 512)\n",
      "17 block5_conv3 (None, 14, 14, 512)\n",
      "18 block5_pool (None, 7, 7, 512)\n",
      "19 flatten (None, 25088)\n",
      "20 fc1 (None, 4096)\n",
      "21 fc2 (None, 4096)\n",
      "22 predictions (None, 1000)\n"
     ]
    }
   ],
   "source": [
    "t0 = time.time()\n",
    "vgg16_model = VGG16(weights='imagenet') # 224×224\n",
    "for i, layer in enumerate(vgg16_model.layers):\n",
    "    print(i, layer.name, layer.output_shape)"
   ]
  },
  {
   "cell_type": "markdown",
   "metadata": {},
   "source": [
    "### 输入预处理"
   ]
  },
  {
   "cell_type": "code",
   "execution_count": 15,
   "metadata": {
    "collapsed": false
   },
   "outputs": [
    {
     "name": "stdout",
     "output_type": "stream",
     "text": [
      "(224, 224, 3)\n",
      "(224, 224, 3)\n",
      "(1, 224, 224, 3)\n",
      "(1, 224, 224, 3)\n"
     ]
    }
   ],
   "source": [
    "img_path = 'input_imgs/cat2.jpg'\n",
    "img = image.load_img(img_path, target_size=(224, 224)) # 224×224\n",
    "print(np.shape(img))\n",
    "x = image.img_to_array(img) # 三维(224, 224，3)\n",
    "print(x.shape)\n",
    "x = np.expand_dims(x, axis=0) # 四维(1，224，224，3)\n",
    "print(x.shape)\n",
    "x = preprocess_input(x) # 预处理\n",
    "print(x.shape)"
   ]
  },
  {
   "cell_type": "markdown",
   "metadata": {},
   "source": [
    "### 预测"
   ]
  },
  {
   "cell_type": "code",
   "execution_count": 16,
   "metadata": {
    "collapsed": false
   },
   "outputs": [
    {
     "name": "stdout",
     "output_type": "stream",
     "text": [
      "测试图: [[('n02127052', 'lynx', 0.31585488), ('n02123045', 'tabby', 0.17049854), ('n02123159', 'tiger_cat', 0.12970078), ('n02124075', 'Egyptian_cat', 0.089332417), ('n02123394', 'Persian_cat', 0.046875697)]]\n",
      "287\n",
      "耗时: 959.05 seconds...\n"
     ]
    }
   ],
   "source": [
    "y_pred = vgg16_model.predict(x) # 预测概率\n",
    "#decode_predictions返回的是一个预测的列表值\n",
    "print('测试图:', decode_predictions(y_pred, top=5)) # 输出5个最高概率：(类名, 语义概念, 预测概率)\n",
    "print(np.argmax(y_pred))\n",
    "print(\"耗时: %.2f seconds...\" % (time.time() - t0))"
   ]
  },
  {
   "cell_type": "code",
   "execution_count": null,
   "metadata": {
    "collapsed": true
   },
   "outputs": [],
   "source": [
    "#抽取中间层（block4_pool）特征\n",
    "# from keras.applications.vgg19 import VGG19\n",
    "# from keras.preprocessing import image\n",
    "# from keras.applications.vgg19 import preprocess_input\n",
    "# from keras.models import Model\n",
    "# import numpy as np\n",
    "\n",
    "# base_model = VGG19(weights='imagenet')\n",
    "# model = Model(inputs=base_model.input, outputs=base_model.get_layer('block4_pool').output)\n",
    "\n",
    "# img_path = 'elephant.jpg'\n",
    "# 提取特征\n",
    "# img = image.load_img(img_path, target_size=(224, 224))\n",
    "# x = image.img_to_array(img)\n",
    "# x = np.expand_dims(x, axis=0)\n",
    "# x = preprocess_input(x)\n",
    "\n",
    "# block4_pool_features = model.predict(x)"
   ]
  }
 ],
 "metadata": {
  "anaconda-cloud": {},
  "kernelspec": {
   "display_name": "Python [default]",
   "language": "python",
   "name": "python3"
  },
  "language_info": {
   "codemirror_mode": {
    "name": "ipython",
    "version": 3
   },
   "file_extension": ".py",
   "mimetype": "text/x-python",
   "name": "python",
   "nbconvert_exporter": "python",
   "pygments_lexer": "ipython3",
   "version": "3.5.2"
  },
  "toc": {
   "base_numbering": 1,
   "nav_menu": {},
   "number_sections": true,
   "sideBar": true,
   "skip_h1_title": false,
   "title_cell": "Table of Contents",
   "title_sidebar": "Contents",
   "toc_cell": false,
   "toc_position": {},
   "toc_section_display": true,
   "toc_window_display": false
  }
 },
 "nbformat": 4,
 "nbformat_minor": 1
}
