{
 "cells": [
  {
   "cell_type": "code",
   "execution_count": 2,
   "metadata": {
    "collapsed": true
   },
   "outputs": [],
   "source": [
    "from keras.datasets import cifar10\n",
    "from keras.preprocessing.image import ImageDataGenerator\n",
    "import numpy as np\n",
    "NUM_TO_AUGMENT = 5"
   ]
  },
  {
   "cell_type": "code",
   "execution_count": 3,
   "metadata": {
    "collapsed": false
   },
   "outputs": [
    {
     "name": "stdout",
     "output_type": "stream",
     "text": [
      "(50000, 32, 32, 3) (50000, 1)\n",
      "(10000, 32, 32, 3) (10000, 1)\n"
     ]
    }
   ],
   "source": [
    "(x_train, y_train), (x_test, y_test) = cifar10.load_data()\n",
    "print(x_train.shape,y_train.shape)\n",
    "print(x_test.shape,y_test.shape)"
   ]
  },
  {
   "cell_type": "markdown",
   "metadata": {},
   "source": [
    "keras.preprocessing.image.ImageDataGenerator：\n",
    "\n",
    "用以生成一个batch的图像数据，支持实时数据提升。训练时该函数会无限生成数据，直到达到规定的epoch次数为止。"
   ]
  },
  {
   "cell_type": "code",
   "execution_count": 5,
   "metadata": {
    "collapsed": false
   },
   "outputs": [],
   "source": [
    "datagen = ImageDataGenerator(\n",
    "#     featurewise_center=True,\n",
    "#     featurewise_std_normalization=True,\n",
    "    rotation_range=40,\n",
    "    zoom_range=0.2,\n",
    "    width_shift_range=0.2,\n",
    "    height_shift_range=0.2,\n",
    "    horizontal_flip=True,\n",
    "    fill_mode='nearest')\n",
    "\n",
    "# compute quantities required for featurewise normalization\n",
    "# (std, mean, and principal components if ZCA whitening is applied)\n",
    "# datagen.fit(x_train)"
   ]
  },
  {
   "cell_type": "markdown",
   "metadata": {},
   "source": [
    "flow(self, X, y, batch_size=32, shuffle=True, seed=None, save_to_dir=None, save_prefix='', save_format='png')：\n",
    "\n",
    "接收numpy数组和标签为参数,生成经过数据提升或标准化后的batch数据,并在一个无限循环中不断的返回batch数据"
   ]
  },
  {
   "cell_type": "code",
   "execution_count": 10,
   "metadata": {
    "collapsed": false
   },
   "outputs": [
    {
     "name": "stdout",
     "output_type": "stream",
     "text": [
      "(50, 32, 32, 3)\n",
      "[[[ 158.  130.  104.]\n",
      "  [ 159.  129.  102.]\n",
      "  [ 168.  136.  108.]\n",
      "  ..., \n",
      "  [ 119.   76.   33.]\n",
      "  [ 128.   82.   41.]\n",
      "  [ 137.  100.   68.]]\n",
      "\n",
      " [[ 158.  130.  104.]\n",
      "  [ 159.  129.  102.]\n",
      "  [ 168.  136.  108.]\n",
      "  ..., \n",
      "  [ 132.   91.   51.]\n",
      "  [ 154.  112.   77.]\n",
      "  [ 154.  120.   89.]]\n",
      "\n",
      " [[ 158.  132.  108.]\n",
      "  [ 158.  130.  104.]\n",
      "  [ 159.  129.  102.]\n",
      "  ..., \n",
      "  [ 156.  114.   82.]\n",
      "  [ 154.  112.   77.]\n",
      "  [ 155.  117.   82.]]\n",
      "\n",
      " ..., \n",
      " [[ 128.  102.   41.]\n",
      "  [ 128.  102.   41.]\n",
      "  [ 151.  128.   54.]\n",
      "  ..., \n",
      "  [ 159.  120.   90.]\n",
      "  [ 153.  114.   84.]\n",
      "  [ 161.  123.   92.]]\n",
      "\n",
      " [[ 151.  128.   54.]\n",
      "  [ 151.  128.   54.]\n",
      "  [ 140.  121.   54.]\n",
      "  ..., \n",
      "  [ 159.  120.   90.]\n",
      "  [ 153.  114.   84.]\n",
      "  [ 161.  123.   92.]]\n",
      "\n",
      " [[ 151.  128.   54.]\n",
      "  [ 140.  121.   54.]\n",
      "  [ 140.  121.   54.]\n",
      "  ..., \n",
      "  [ 159.  120.   90.]\n",
      "  [ 159.  120.   90.]\n",
      "  [ 153.  114.   84.]]]\n"
     ]
    }
   ],
   "source": [
    "xtas = []\n",
    "for i in range(10):\n",
    "    num_aug = 0\n",
    "    x = x_train[i] #(32,32,3)\n",
    "    x = x.reshape((1,)+x.shape) #(1,32,32,3)\n",
    "    for x_aug in datagen.flow(x, batch_size=1, save_to_dir='preview', save_prefix='cifar', save_format='jpg'):\n",
    "        if num_aug >= NUM_TO_AUGMENT:\n",
    "            break\n",
    "        xtas.append(x_aug[0])\n",
    "        num_aug += 1\n",
    "print(np.shape(xtas))"
   ]
  }
 ],
 "metadata": {
  "anaconda-cloud": {},
  "kernelspec": {
   "display_name": "Python [default]",
   "language": "python",
   "name": "python3"
  },
  "language_info": {
   "codemirror_mode": {
    "name": "ipython",
    "version": 3
   },
   "file_extension": ".py",
   "mimetype": "text/x-python",
   "name": "python",
   "nbconvert_exporter": "python",
   "pygments_lexer": "ipython3",
   "version": "3.5.2"
  },
  "toc": {
   "base_numbering": 1,
   "nav_menu": {},
   "number_sections": true,
   "sideBar": true,
   "skip_h1_title": false,
   "title_cell": "Table of Contents",
   "title_sidebar": "Contents",
   "toc_cell": false,
   "toc_position": {},
   "toc_section_display": true,
   "toc_window_display": false
  }
 },
 "nbformat": 4,
 "nbformat_minor": 1
}
