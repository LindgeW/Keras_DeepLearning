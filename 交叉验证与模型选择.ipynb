{
 "cells": [
  {
   "cell_type": "code",
   "execution_count": 2,
   "metadata": {
    "collapsed": false
   },
   "outputs": [
    {
     "name": "stdout",
     "output_type": "stream",
     "text": [
      "(150, 2)\n",
      "[[ 5.1  3.5]\n",
      " [ 4.9  3. ]\n",
      " [ 4.7  3.2]\n",
      " [ 4.6  3.1]\n",
      " [ 5.   3.6]\n",
      " [ 5.4  3.9]\n",
      " [ 4.6  3.4]\n",
      " [ 5.   3.4]\n",
      " [ 4.4  2.9]\n",
      " [ 4.9  3.1]]\n",
      "[0 0 0 0 0 0 0 0 0 0 0 0 0 0 0 0 0 0 0 0 0 0 0 0 0 0 0 0 0 0 0 0 0 0 0 0 0\n",
      " 0 0 0 0 0 0 0 0 0 0 0 0 0 1 1 1 1 1 1 1 1 1 1 1 1 1 1 1 1 1 1 1 1 1 1 1 1\n",
      " 1 1 1 1 1 1 1 1 1 1 1 1 1 1 1 1 1 1 1 1 1 1 1 1 1 1 2 2 2 2 2 2 2 2 2 2 2\n",
      " 2 2 2 2 2 2 2 2 2 2 2 2 2 2 2 2 2 2 2 2 2 2 2 2 2 2 2 2 2 2 2 2 2 2 2 2 2\n",
      " 2 2] [0 0 0 0 0 0 0 0 0 0]\n"
     ]
    },
    {
     "data": {
      "image/png": "[encoded data removed]",
      "text/plain": [
       "<matplotlib.figure.Figure at 0x600163f898>"
      ]
     },
     "metadata": {},
     "output_type": "display_data"
    }
   ],
   "source": [
    "import numpy as np\n",
    "from sklearn.datasets import load_iris\n",
    "import matplotlib.pyplot as plt\n",
    "\n",
    "#load datasets\n",
    "iris = load_iris() #一种花的数据集\n",
    "data = iris.data[:,:2]\n",
    "target = iris.target\n",
    "print(data.shape) #(150,2)\n",
    "print(data[:10])\n",
    "print(target,target[:10])\n",
    " \n",
    "label = np.array(target)\n",
    "index_0 = np.where(label==0)\n",
    "plt.scatter(data[index_0,0],data[index_0,1],marker='x',color = 'b',label = '0',s = 15)\n",
    "index_1 =np.where(label==1)\n",
    "plt.scatter(data[index_1,0],data[index_1,1],marker='o',color = 'r',label = '1',s = 15)\n",
    "index_2 =np.where(label==2)\n",
    "plt.scatter(data[index_2,0],data[index_2,1],marker='s',color = 'g',label = '2',s = 15)\n",
    "plt.xlabel('X1')\n",
    "plt.ylabel('X2')\n",
    "plt.legend(loc = 'upper left')\n",
    "plt.show()"
   ]
  },
  {
   "cell_type": "markdown",
   "metadata": {},
   "source": [
    "随机抽取一部分作为“测试集”（X_test），留着最后模型评估。然后再用交叉验证，验证正确率。\n",
    "\n",
    "（注意，这个数据集就有分布规律，0-50为0类，50-100为1类，100-150为2类，所以用了随机选取打乱了分布）"
   ]
  },
  {
   "cell_type": "code",
   "execution_count": 41,
   "metadata": {
    "collapsed": false
   },
   "outputs": [
    {
     "name": "stdout",
     "output_type": "stream",
     "text": [
      "(120, 2) (30, 2)\n",
      "(120,) (30,)\n",
      "(4, 30, 2) (4, 30)\n",
      "[array([[ 6.1,  3. ],\n",
      "       [ 7.7,  3. ],\n",
      "       [ 5.6,  2.5],\n",
      "       [ 6.4,  2.8],\n",
      "       [ 5.8,  2.8],\n",
      "       [ 5.3,  3.7],\n",
      "       [ 5.5,  2.3],\n",
      "       [ 5.2,  3.4],\n",
      "       [ 6.5,  2.8],\n",
      "       [ 6.7,  2.5],\n",
      "       [ 6.8,  3. ],\n",
      "       [ 5.1,  3.5],\n",
      "       [ 6. ,  2.2],\n",
      "       [ 6.3,  2.9],\n",
      "       [ 6.6,  2.9],\n",
      "       [ 7.7,  2.6],\n",
      "       [ 5.7,  3.8],\n",
      "       [ 5. ,  3.6],\n",
      "       [ 4.8,  3. ],\n",
      "       [ 5.2,  2.7],\n",
      "       [ 5.1,  3.4],\n",
      "       [ 5.5,  3.5],\n",
      "       [ 7.7,  3.8],\n",
      "       [ 6.9,  3.1],\n",
      "       [ 7.3,  2.9],\n",
      "       [ 6.4,  2.8],\n",
      "       [ 6.2,  2.8],\n",
      "       [ 6. ,  3.4],\n",
      "       [ 7.7,  2.8],\n",
      "       [ 5.7,  3. ]]), array([[ 4.8,  3.4],\n",
      "       [ 5.7,  2.5],\n",
      "       [ 6.3,  2.7],\n",
      "       [ 4.8,  3. ],\n",
      "       [ 4.7,  3.2],\n",
      "       [ 6.5,  3. ],\n",
      "       [ 4.6,  3.4],\n",
      "       [ 6.1,  3. ],\n",
      "       [ 6.5,  3.2],\n",
      "       [ 6.7,  3.1],\n",
      "       [ 5.7,  2.8],\n",
      "       [ 6.7,  3.3],\n",
      "       [ 6. ,  3. ],\n",
      "       [ 5.1,  3.8],\n",
      "       [ 6. ,  2.2],\n",
      "       [ 6.4,  2.9],\n",
      "       [ 6.5,  3. ],\n",
      "       [ 5. ,  2.3],\n",
      "       [ 6.3,  3.3],\n",
      "       [ 5.5,  2.5],\n",
      "       [ 5.4,  3.7],\n",
      "       [ 4.9,  3.1],\n",
      "       [ 5.2,  4.1],\n",
      "       [ 6.7,  3.3],\n",
      "       [ 4.4,  3. ],\n",
      "       [ 6. ,  2.7],\n",
      "       [ 6.4,  2.7],\n",
      "       [ 5.9,  3. ],\n",
      "       [ 5.2,  3.5],\n",
      "       [ 5.1,  3.3]]), array([[ 5.8,  2.7],\n",
      "       [ 4.9,  3.1],\n",
      "       [ 7.4,  2.8],\n",
      "       [ 6.2,  2.9],\n",
      "       [ 7.6,  3. ],\n",
      "       [ 6.7,  3. ],\n",
      "       [ 6.3,  2.3],\n",
      "       [ 6.2,  3.4],\n",
      "       [ 7.2,  3.6],\n",
      "       [ 5.6,  2.9],\n",
      "       [ 5.7,  4.4],\n",
      "       [ 5.8,  2.7],\n",
      "       [ 4.5,  2.3],\n",
      "       [ 5.5,  2.4],\n",
      "       [ 6.9,  3.1],\n",
      "       [ 5. ,  3.4],\n",
      "       [ 6.8,  2.8],\n",
      "       [ 5. ,  3.5],\n",
      "       [ 4.8,  3.4],\n",
      "       [ 6.3,  3.4],\n",
      "       [ 5.6,  2.8],\n",
      "       [ 6.8,  3.2],\n",
      "       [ 5. ,  3.3],\n",
      "       [ 5.1,  3.7],\n",
      "       [ 5.9,  3.2],\n",
      "       [ 4.6,  3.1],\n",
      "       [ 5.8,  2.7],\n",
      "       [ 4.8,  3.1],\n",
      "       [ 6.5,  3. ],\n",
      "       [ 4.9,  2.5]]), array([[ 4.6,  3.2],\n",
      "       [ 6.4,  3.2],\n",
      "       [ 4.3,  3. ],\n",
      "       [ 5.6,  3. ],\n",
      "       [ 4.4,  2.9],\n",
      "       [ 5.5,  2.4],\n",
      "       [ 5. ,  2. ],\n",
      "       [ 5.1,  3.5],\n",
      "       [ 4.9,  3. ],\n",
      "       [ 4.9,  2.4],\n",
      "       [ 4.6,  3.6],\n",
      "       [ 5.9,  3. ],\n",
      "       [ 6.1,  2.9],\n",
      "       [ 5. ,  3.4],\n",
      "       [ 6.7,  3.1],\n",
      "       [ 5.7,  2.9],\n",
      "       [ 6.2,  2.2],\n",
      "       [ 7. ,  3.2],\n",
      "       [ 5.8,  2.7],\n",
      "       [ 5.4,  3.4],\n",
      "       [ 5. ,  3. ],\n",
      "       [ 6.1,  2.6],\n",
      "       [ 6.1,  2.8],\n",
      "       [ 7.2,  3. ],\n",
      "       [ 5.7,  2.6],\n",
      "       [ 6.3,  2.8],\n",
      "       [ 6.4,  3.1],\n",
      "       [ 6.3,  2.5],\n",
      "       [ 6.7,  3.1],\n",
      "       [ 4.9,  3.1]])]\n",
      "(90, 2) (30, 2) (90,) (30,)\n",
      "(90, 2) (30, 2) (90,) (30,)\n",
      "(90, 2) (30, 2) (90,) (30,)\n",
      "(90, 2) (30, 2) (90,) (30,)\n",
      "k = 1,accuracy = 0.700000\n",
      "k = 1,accuracy = 0.766667\n",
      "k = 1,accuracy = 0.666667\n",
      "k = 1,accuracy = 0.800000\n",
      "k = 3,accuracy = 0.600000\n",
      "k = 3,accuracy = 0.766667\n",
      "k = 3,accuracy = 0.766667\n",
      "k = 3,accuracy = 0.733333\n",
      "k = 5,accuracy = 0.600000\n",
      "k = 5,accuracy = 0.766667\n",
      "k = 5,accuracy = 0.733333\n",
      "k = 5,accuracy = 0.800000\n",
      "k = 7,accuracy = 0.666667\n",
      "k = 7,accuracy = 0.766667\n",
      "k = 7,accuracy = 0.800000\n",
      "k = 7,accuracy = 0.666667\n",
      "k = 9,accuracy = 0.766667\n",
      "k = 9,accuracy = 0.766667\n",
      "k = 9,accuracy = 0.766667\n",
      "k = 9,accuracy = 0.766667\n",
      "k = 13,accuracy = 0.800000\n",
      "k = 13,accuracy = 0.833333\n",
      "k = 13,accuracy = 0.766667\n",
      "k = 13,accuracy = 0.733333\n",
      "k = 15,accuracy = 0.800000\n",
      "k = 15,accuracy = 0.766667\n",
      "k = 15,accuracy = 0.766667\n",
      "k = 15,accuracy = 0.733333\n",
      "k = 20,accuracy = 0.766667\n",
      "k = 20,accuracy = 0.800000\n",
      "k = 20,accuracy = 0.766667\n",
      "k = 20,accuracy = 0.733333\n",
      "k = 25,accuracy = 0.800000\n",
      "k = 25,accuracy = 0.833333\n",
      "k = 25,accuracy = 0.733333\n",
      "k = 25,accuracy = 0.733333\n"
     ]
    }
   ],
   "source": [
    "#split the train sets and test sets,\n",
    "from sklearn import neighbors as knn\n",
    "from sklearn.model_selection import train_test_split\n",
    "\n",
    "# Split arrays or matrices into random train and test subsets\n",
    "X, X_test, y, y_test = train_test_split(data, target, test_size=0.2, random_state=1) \n",
    "print(X.shape,X_test.shape)\n",
    "print(y.shape,y_test.shape)\n",
    "\n",
    "#cross validation\n",
    "folds = 4\n",
    "k_choices = [1,3,5,7,9,13,15,20,25]\n",
    " \n",
    "X_folds = []\n",
    "y_folds = []\n",
    " \n",
    "X_folds = np.vsplit(X, folds) # 120*2 变成 4*(30*2)\n",
    "y_folds = np.hsplit(y, folds) # 1*120 变成 4*30\n",
    "print(np.shape(X_folds), np.shape(y_folds))\n",
    "print(X_folds)\n",
    "\n",
    "accuracy_of_k = {}\n",
    "for k in k_choices:\n",
    "    accuracy_of_k[k] = [] #字典的值部分均为list\n",
    "    \n",
    "#split the train sets and validation sets\n",
    "for i in range(folds): #4折交叉验证（留一法）\n",
    "    #训练集\n",
    "    X_train =np.vstack(X_folds[:i] + X_folds[i+1:])  #Stack arrays in sequence vertically (row wise)\n",
    "    X_val = X_folds[i] #验证集\n",
    "    y_train = np.hstack(y_folds[:i] + y_folds[i+1:]) #Stack arrays in sequence horizontally (column wise)\n",
    "    #训练集\n",
    "    y_val = y_folds[i] #验证集\n",
    "    print(X_train.shape,X_val.shape,y_train.shape,y_val.shape)\n",
    "    for k in k_choices:\n",
    "        classify = knn.KNeighborsClassifier(k)\n",
    "        classify.fit(X_train,y_train)\n",
    "        y_val_pred = classify.predict(X_val)\n",
    "        accuracy = np.mean(y_val_pred == y_val)\n",
    "        accuracy_of_k[k].append(accuracy)\n",
    "        \n",
    "for k in sorted(k_choices):\n",
    "    for accuracy in accuracy_of_k[k]:\n",
    "        print('k = %d,accuracy = %f'%(k,accuracy))"
   ]
  },
  {
   "cell_type": "code",
   "execution_count": 6,
   "metadata": {
    "collapsed": false
   },
   "outputs": [
    {
     "name": "stdout",
     "output_type": "stream",
     "text": [
      "[1, 3, 4, 5, 6]\n",
      "[[1]\n",
      " [3]\n",
      " [4]\n",
      " [5]\n",
      " [6]]\n",
      "[1 3 4 5 6]\n"
     ]
    }
   ],
   "source": [
    "x = [1,2,3,4,5,6]\n",
    "v = np.vstack(x[:1]+x[2:])\n",
    "print(x[:1]+x[2:])\n",
    "print(v)\n",
    "h = np.hstack(x[:1]+x[2:])\n",
    "print(h)"
   ]
  },
  {
   "cell_type": "code",
   "execution_count": 35,
   "metadata": {
    "collapsed": false
   },
   "outputs": [
    {
     "data": {
      "image/png": "[encoded data removed]",
      "text/plain": [
       "<matplotlib.figure.Figure at 0x3507a25fd0>"
      ]
     },
     "metadata": {},
     "output_type": "display_data"
    }
   ],
   "source": [
    "#show the plot\n",
    "import matplotlib.pyplot as plt\n",
    "#show the accuracy \n",
    "for k in k_choices:\n",
    "    plt.scatter([k]*len(accuracy_of_k[k]), accuracy_of_k[k])\n",
    "\n",
    "#均值\n",
    "accuracies_mean = np.array([np.mean(v) for k,v in sorted(accuracy_of_k.items())]) #Return a new list containing all items from the iterable in ascending order.\n",
    "#标准差\n",
    "accuracies_std = np.array([np.std(v) for k,v in sorted(accuracy_of_k.items())])\n",
    "plt.errorbar(k_choices, accuracies_mean, yerr=accuracies_std) #绘制误差图\n",
    "plt.title('Cross-validation on k')\n",
    "plt.xlabel('k')\n",
    "plt.ylabel('Cross-validation accuracy')\n",
    "plt.show()"
   ]
  },
  {
   "cell_type": "code",
   "execution_count": 31,
   "metadata": {
    "collapsed": false
   },
   "outputs": [
    {
     "data": {
      "image/png": "[encoded data removed]",
      "text/plain": [
       "<matplotlib.figure.Figure at 0x3505535a90>"
      ]
     },
     "metadata": {},
     "output_type": "display_data"
    }
   ],
   "source": [
    "x = np.linspace(0, 10, 50) #start, stop, num\n",
    "dy = 0.8 \n",
    "y = np.sin(x) + dy * np.random.randn(50) #1*50的标准正态随机数\n",
    "# plt.errorbar(x, y, yerr=dy, fmt='.k')\n",
    "plt.errorbar(x, y, yerr=dy, fmt='o', color='black', ecolor='lightgray', elinewidth=3, capsize=0)\n",
    "plt.show()"
   ]
  },
  {
   "cell_type": "code",
   "execution_count": 24,
   "metadata": {
    "collapsed": false
   },
   "outputs": [
    {
     "name": "stdout",
     "output_type": "stream",
     "text": [
      "test accuracy is 24/30 = 0.800000\n"
     ]
    }
   ],
   "source": [
    "#we chose the best one\n",
    "best_k = 13\n",
    "classify = knn.KNeighborsClassifier(best_k)\n",
    "classify.fit(X_train,y_train)\n",
    "y_test_pred = classify.predict(X_test)\n",
    "num_correct = np.sum(y_test==y_test_pred)\n",
    "accuracy_test = np.mean(y_test==y_test_pred)\n",
    "print('test accuracy is %d/%d = %f'%(num_correct,X_test.shape[0],accuracy_test))\n"
   ]
  },
  {
   "cell_type": "markdown",
   "metadata": {},
   "source": [
    "总之：交叉验证可以帮助我们进行超参数的调优和模型选择！"
   ]
  }
 ],
 "metadata": {
  "anaconda-cloud": {},
  "kernelspec": {
   "display_name": "Python [default]",
   "language": "python",
   "name": "python3"
  },
  "language_info": {
   "codemirror_mode": {
    "name": "ipython",
    "version": 3
   },
   "file_extension": ".py",
   "mimetype": "text/x-python",
   "name": "python",
   "nbconvert_exporter": "python",
   "pygments_lexer": "ipython3",
   "version": "3.5.2"
  },
  "toc": {
   "base_numbering": 1,
   "nav_menu": {},
   "number_sections": true,
   "sideBar": true,
   "skip_h1_title": false,
   "title_cell": "Table of Contents",
   "title_sidebar": "Contents",
   "toc_cell": false,
   "toc_position": {},
   "toc_section_display": true,
   "toc_window_display": false
  }
 },
 "nbformat": 4,
 "nbformat_minor": 1
}
