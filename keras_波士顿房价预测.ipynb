{
 "cells": [
  {
   "cell_type": "markdown",
   "metadata": {},
   "source": [
    "Housing Values in Suburbs of Boston\n",
    "https://www.kaggle.com/c/boston-housing <br>\n",
    "根据13个指标预测波士顿房价中位数\n",
    "* The medv variable is the target variable.(房价的中位数为预测目标)\n",
    "* The Boston data frame has 506 rows and 14 columns.(shape: 506*14)\n",
    "* The scoring is based on the RMSE, that is:\n",
    "$RMSE(y) = \\sqrt{\\sum_{i=1}^n (y_i - \\hat{y}_i)^2}$ (均方误差的开方)\n"
   ]
  },
  {
   "cell_type": "code",
   "execution_count": 1,
   "metadata": {
    "collapsed": true
   },
   "outputs": [],
   "source": [
    "from keras.datasets import boston_housing\n",
    "from keras.models import Sequential\n",
    "from keras.layers import Dense\n",
    "from keras.optimizers import RMSprop\n",
    "import numpy as np"
   ]
  },
  {
   "cell_type": "code",
   "execution_count": 2,
   "metadata": {
    "collapsed": false
   },
   "outputs": [
    {
     "name": "stdout",
     "output_type": "stream",
     "text": [
      "Downloading data from https://s3.amazonaws.com/keras-datasets/boston_housing.npz\n",
      "57344/57026 [==============================] - 0s 6us/step\n"
     ]
    }
   ],
   "source": [
    "(x_train, y_train), (x_test, y_test) = boston_housing.load_data()"
   ]
  },
  {
   "cell_type": "code",
   "execution_count": 6,
   "metadata": {
    "collapsed": false
   },
   "outputs": [
    {
     "name": "stdout",
     "output_type": "stream",
     "text": [
      "(404, 13) (404,)\n",
      "(102, 13) (102,)\n",
      "[ 15.2  42.3  50.   21.1  17.7  18.5  11.3  15.6  15.6  14.4  12.1  17.9\n",
      "  23.1  19.9  15.7   8.8  50.   22.5  24.1  27.5  10.9  30.8  32.9  24.\n",
      "  18.5  13.3  22.9  34.7  16.6  17.5  22.3  16.1  14.9  23.1  34.9  25.\n",
      "  13.9  13.1  20.4  20.   15.2  24.7  22.2  16.7  12.7  15.6  18.4  21.\n",
      "  30.1  15.1  18.7   9.6  31.5  24.8  19.1  22.   14.5  11.   32.   29.4\n",
      "  20.3  24.4  14.6  19.5  14.1  14.3  15.6  10.5   6.3  19.3  19.3  13.4\n",
      "  36.4  17.8  13.5  16.5   8.3  14.3  16.   13.4  28.6  43.5  20.2  22.\n",
      "  23.   20.7  12.5  48.5  14.6  13.4  23.7  50.   21.7  39.8  38.7  22.2\n",
      "  34.9  22.5  31.1  28.7  46.   41.7  21.   26.6  15.   24.4  13.3  21.2\n",
      "  11.7  21.7  19.4  50.   22.8  19.7  24.7  36.2  14.2  18.9  18.3  20.6\n",
      "  24.6  18.2   8.7  44.   10.4  13.2  21.2  37.   30.7  22.9  20.   19.3\n",
      "  31.7  32.   23.1  18.8  10.9  50.   19.6   5.   14.4  19.8  13.8  19.6\n",
      "  23.9  24.5  25.   19.9  17.2  24.6  13.5  26.6  21.4  11.9  22.6  19.6\n",
      "   8.5  23.7  23.1  22.4  20.5  23.6  18.4  35.2  23.1  27.9  20.6  23.7\n",
      "  28.   13.6  27.1  23.6  20.6  18.2  21.7  17.1   8.4  25.3  13.8  22.2\n",
      "  18.4  20.7  31.6  30.5  20.3   8.8  19.2  19.4  23.1  23.   14.8  48.8\n",
      "  22.6  33.4  21.1  13.6  32.2  13.1  23.4  18.9  23.9  11.8  23.3  22.8\n",
      "  19.6  16.7  13.4  22.2  20.4  21.8  26.4  14.9  24.1  23.8  12.3  29.1\n",
      "  21.   19.5  23.3  23.8  17.8  11.5  21.7  19.9  25.   33.4  28.5  21.4\n",
      "  24.3  27.5  33.1  16.2  23.3  48.3  22.9  22.8  13.1  12.7  22.6  15.\n",
      "  15.3  10.5  24.   18.5  21.7  19.5  33.2  23.2   5.   19.1  12.7  22.3\n",
      "  10.2  13.9  16.3  17.   20.1  29.9  17.2  37.3  45.4  17.8  23.2  29.\n",
      "  22.   18.   17.4  34.6  20.1  25.   15.6  24.8  28.2  21.2  21.4  23.8\n",
      "  31.   26.2  17.4  37.9  17.5  20.    8.3  23.9   8.4  13.8   7.2  11.7\n",
      "  17.1  21.6  50.   16.1  20.4  20.6  21.4  20.6  36.5   8.5  24.8  10.8\n",
      "  21.9  17.3  18.9  36.2  14.9  18.2  33.3  21.8  19.7  31.6  24.8  19.4\n",
      "  22.8   7.5  44.8  16.8  18.7  50.   50.   19.5  20.1  50.   17.2  20.8\n",
      "  19.3  41.3  20.4  20.5  13.8  16.5  23.9  20.6  31.5  23.3  16.8  14.\n",
      "  33.8  36.1  12.8  18.3  18.7  19.1  29.   30.1  50.   50.   22.   11.9\n",
      "  37.6  50.   22.7  20.8  23.5  27.9  50.   19.3  23.9  22.6  15.2  21.7\n",
      "  19.2  43.8  20.3  33.2  19.9  22.5  32.7  22.   17.1  19.   15.   16.1\n",
      "  25.1  23.7  28.7  37.2  22.6  16.4  25.   29.8  22.1  17.4  18.1  30.3\n",
      "  17.5  24.7  12.6  26.5  28.7  13.3  10.4  24.4  23.   20.   17.8   7.\n",
      "  11.8  24.4  13.8  19.4  25.2  19.4  19.4  29.1]\n"
     ]
    }
   ],
   "source": [
    "print(x_train.shape, y_train.shape)\n",
    "print(x_test.shape, y_test.shape)\n",
    "print(y_train)"
   ]
  },
  {
   "cell_type": "code",
   "execution_count": 5,
   "metadata": {
    "collapsed": true
   },
   "outputs": [],
   "source": [
    "mean = x_train.mean(axis=0)\n",
    "std = x_train.std(axis=0)\n",
    "x_train = (x_train - mean)/std\n",
    "x_test = (x_test - mean)/std"
   ]
  },
  {
   "cell_type": "code",
   "execution_count": 19,
   "metadata": {
    "collapsed": true
   },
   "outputs": [],
   "source": [
    "def build_model():\n",
    "    model = Sequential()\n",
    "    model.add(Dense(64,input_shape=(13,),activation='relu'))\n",
    "    model.add(Dense(64,activation='relu'))\n",
    "    model.add(Dense(1))\n",
    "    model.compile(optimizer=RMSprop(), loss='mse', metrics=['mae'])#平均绝对误差\n",
    "    return model"
   ]
  },
  {
   "cell_type": "markdown",
   "metadata": {},
   "source": [
    "<img src=\"imgs/交叉验证.png\">"
   ]
  },
  {
   "cell_type": "code",
   "execution_count": 27,
   "metadata": {
    "collapsed": false
   },
   "outputs": [
    {
     "name": "stdout",
     "output_type": "stream",
     "text": [
      "第 1 折, MSE: 9.047565 MAE:2.179007\n",
      "第 2 折, MSE: 12.376006 MAE:2.494610\n",
      "第 3 折, MSE: 15.710650 MAE:2.613543\n",
      "第 4 折, MSE: 11.860395 MAE:2.366552\n"
     ]
    }
   ],
   "source": [
    "folds = 4\n",
    "nb_samples = len(x_train) // folds\n",
    "nb_epochs = 100\n",
    "all_scores = []\n",
    "for i in range(folds):\n",
    "    #验证集\n",
    "    val_data = x_train[i*nb_samples : (i+1)*nb_samples]\n",
    "    val_targets = y_train[i*nb_samples : (i+1)*nb_samples]\n",
    "\n",
    "    #训练集\n",
    "#   X_train = np.concatenate((x_train[ : i*nb_samples], x_train[(i+1)*nb_samples : ]), axis=0)\n",
    "    X_train = np.vstack((x_train[ : i*nb_samples], x_train[(i+1)*nb_samples : ]))\n",
    "#   Y_train = np.concatenate((y_train[ : i*nb_samples], y_train[(i+1)*nb_samples : ]), axis=0)\n",
    "    Y_train = np.hstack((y_train[ : i*nb_samples], y_train[(i+1)*nb_samples : ]))\n",
    "    \n",
    "    model = build_model()\n",
    "    model.fit(X_train, Y_train, epochs=nb_epochs, batch_size=1, verbose=0)\n",
    "    val_mse, val_mae = model.evaluate(val_data, val_targets, verbose=0)\n",
    "    all_scores.append(val_mse)\n",
    "    #MSE-均方误差  MAE-平均绝对误差\n",
    "    print('第 %d 折, MSE: %f MAE:%f'%(i+1,val_mse,val_mae))"
   ]
  },
  {
   "cell_type": "code",
   "execution_count": 28,
   "metadata": {
    "collapsed": false
   },
   "outputs": [
    {
     "data": {
      "text/plain": [
       "3.4998077363123397"
      ]
     },
     "execution_count": 28,
     "metadata": {},
     "output_type": "execute_result"
    }
   ],
   "source": [
    "np.sqrt(np.mean(all_scores))"
   ]
  },
  {
   "cell_type": "code",
   "execution_count": 24,
   "metadata": {
    "collapsed": false
   },
   "outputs": [
    {
     "data": {
      "text/plain": [
       "<keras.callbacks.History at 0x773a90860>"
      ]
     },
     "execution_count": 24,
     "metadata": {},
     "output_type": "execute_result"
    }
   ],
   "source": [
    "model = build_model()\n",
    "model.fit(x_train, y_train, epochs=80, batch_size=16, verbose=0)"
   ]
  },
  {
   "cell_type": "code",
   "execution_count": 25,
   "metadata": {
    "collapsed": false
   },
   "outputs": [
    {
     "name": "stdout",
     "output_type": "stream",
     "text": [
      "102/102 [==============================] - 0s 1ms/step\n"
     ]
    }
   ],
   "source": [
    "test_mse, test_mae = model.evaluate(x_test, y_test)"
   ]
  },
  {
   "cell_type": "code",
   "execution_count": 26,
   "metadata": {
    "collapsed": false
   },
   "outputs": [
    {
     "name": "stdout",
     "output_type": "stream",
     "text": [
      "4.17893866342\n"
     ]
    }
   ],
   "source": [
    "print(np.sqrt(test_mse))"
   ]
  }
 ],
 "metadata": {
  "anaconda-cloud": {},
  "kernelspec": {
   "display_name": "Python [default]",
   "language": "python",
   "name": "python3"
  },
  "language_info": {
   "codemirror_mode": {
    "name": "ipython",
    "version": 3
   },
   "file_extension": ".py",
   "mimetype": "text/x-python",
   "name": "python",
   "nbconvert_exporter": "python",
   "pygments_lexer": "ipython3",
   "version": "3.5.2"
  },
  "toc": {
   "base_numbering": 1,
   "nav_menu": {},
   "number_sections": true,
   "sideBar": true,
   "skip_h1_title": false,
   "title_cell": "Table of Contents",
   "title_sidebar": "Contents",
   "toc_cell": false,
   "toc_position": {},
   "toc_section_display": true,
   "toc_window_display": false
  }
 },
 "nbformat": 4,
 "nbformat_minor": 1
}
